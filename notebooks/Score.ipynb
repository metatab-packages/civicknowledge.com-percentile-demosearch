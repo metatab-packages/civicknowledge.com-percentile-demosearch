{
 "cells": [
  {
   "cell_type": "code",
   "execution_count": 17,
   "metadata": {},
   "outputs": [],
   "source": [
    "import seaborn as sns\n",
    "import metapack as mp\n",
    "import pandas as pd\n",
    "import geopandas as gpd\n",
    "import numpy as np\n",
    "import matplotlib.pyplot as plt\n",
    "from IPython.display import display \n",
    "from tqdm.notebook import tqdm \n",
    "\n",
    "%matplotlib inline\n",
    "sns.set_context('notebook')\n",
    "mp.jupyter.init()\n",
    "\n",
    "from demosearch import *\n",
    "from pathlib import Path\n",
    "\n"
   ]
  },
  {
   "cell_type": "code",
   "execution_count": 13,
   "metadata": {},
   "outputs": [
    {
     "data": {
      "text/html": [
       "<p><code>civicknowledge.com-percentile-demosearch-1.1.1</code> Last Update: 2021-05-21T22:46:04</p>\n",
       "<p>__</p>\n",
       "<h2>Contacts</h2>\n",
       "<ul>\n",
       "<li><strong>Wrangler</strong> <a href=\"mailto:eric@civicknowledge.com\">Eric Busboom</a>, <a href=\"http://civicknowledge.com\">Civic Knowledge</a></li>\n",
       "</ul>"
      ],
      "text/plain": [
       "\n",
       "`civicknowledge.com-percentile-demosearch-1.1.1` Last Update: 2021-05-21T22:46:04\n",
       "\n",
       "__\n",
       "\n",
       "\n",
       "\n",
       "\n",
       " \n",
       "\n",
       "## Contacts\n",
       "\n",
       "* **Wrangler** [Eric Busboom](mailto:eric@civicknowledge.com), [Civic Knowledge](http://civicknowledge.com)\n",
       "\n"
      ]
     },
     "execution_count": 13,
     "metadata": {},
     "output_type": "execute_result"
    }
   ],
   "source": [
    "pkg = mp.jupyter.open_source_package()\n",
    "pkg.set_sys_path()\n",
    "import  pylib \n",
    "\n",
    "def get_cache(pkg):\n",
    "    return FileCache(Path(pkg.path).parent.joinpath('cache'))\n",
    "\n",
    "pkg_root = Path(pkg.path).parent\n",
    "\n",
    "cache = get_cache(pkg)\n",
    "pkg\n",
    " "
   ]
  },
  {
   "cell_type": "code",
   "execution_count": 16,
   "metadata": {},
   "outputs": [
    {
     "data": {
      "text/plain": [
       "PosixPath('/Volumes/External/data/radius-collection/staging/civicknowledge.com-percentile-demosearch/data/cache')"
      ]
     },
     "execution_count": 16,
     "metadata": {},
     "output_type": "execute_result"
    }
   ],
   "source": [
    "cache.joinpath()"
   ]
  },
  {
   "cell_type": "code",
   "execution_count": 4,
   "metadata": {},
   "outputs": [
    {
     "data": {
      "text/html": [
       "<h1>US Businesses</h1>\n",
       "<p><code>businesslistdatabase.com-us_business-1.1.1</code> Last Update: 2021-04-09T23:19:03</p>\n",
       "<p><em>US Business list, reduced to point position and category</em></p>\n",
       "<p>This package processes a list of US businesses obtained from a\n",
       "<a href=\"https://www.businesslistdatabase.com/\">private source</a>. The\n",
       "source data is low quality, so there is a lot of processing\n",
       "to be done. Most importantly, many records have a conflict between \n",
       "the SIC and NAICS codes; these records are removed. </p>\n",
       "<h2>Building</h2>\n",
       "<p>The package can take muh longer to build than the timeout for \n",
       "running a Jupyter notebook, so the Jupyter notebook caches\n",
       "intermediate stages of the process. Run the upyter notebook directly\n",
       "first, then build the package.</p>\n",
       "<h2>Documentation Links</h2>\n",
       "<ul>\n",
       "<li><a href=\"http://s3.amazonaws.com/radius.civicknowledge.com/businesslistdatabase.com-us_business-1.1.1/index.html\">Documentation Page</a> </li>\n",
       "</ul>\n",
       "<h2>Contacts</h2>\n",
       "<ul>\n",
       "<li><strong>Wrangler</strong> <a href=\"mailto:eric@civicknowledge.com\">Eric Busboom</a>, <a href=\"http://civicknowledge.com\">Civic Knowledge</a></li>\n",
       "</ul>\n",
       "<h2>Resources</h2>\n",
       "<ul>\n",
       "<li><strong> <a href=\"http://s3.amazonaws.com/radius.civicknowledge.com/businesslistdatabase.com-us_business-1.1.1/data/businesses_cat.csv\">businesses_cat</a></strong>. Businesses categorized to shop, auto, food, ent</li>\n",
       "</ul>\n",
       "<h2>References</h2>\n",
       "<ul><li> <strong>us_business</string>, <em>data/us_businesses.zip</em>. List of US Businesses</li><li> <strong>block_templ</string>, <em>censusgeo://2020/5/{st}/block</em>. Block url template</li><li> <strong>cbsa</string>, <em>censusgeo://2020/5/US/cbsa</em>. Metro areas</li><li> <strong>states</string>, <em>censusgeo://2020/5/US/state</em>. US States</li><li> <strong>us_geohashes</string>, <em>metapack+http://library.metatab.org/civicknowledge.com-geohash-us.csv#us_geohashes</em>. All 4 digit geohases in the continential US</li><li> <strong>utm_grid</string>, <em>metapack+http://library.metatab.org/civicknowledge.com-mgrs.csv#utm_grid</em>. </li><li> <strong><a href=\"https://www.census.gov/eos/www/naics/2012NAICS/2012_NAICS_Index_File.xls\">naics_index_2012</a></strong>. NAICS index file, 2012</li><li> <strong><a href=\"https://www.census.gov/eos/www/naics/2012NAICS/2-digit_2012_Codes.xls\">naics_index_2012_26</a></strong>. NAICS index file, 2012, 2 to 6 digit codes</li><li> <strong><a href=\"https://www.census.gov/naics/concordances/1997_NAICS_to_1987_SIC.xls\">naics_sic</a></strong>. NAICS to SIC crosswalk, maybe?</li><ul>"
      ],
      "text/plain": [
       "# US Businesses\n",
       "`businesslistdatabase.com-us_business-1.1.1` Last Update: 2021-04-09T23:19:03\n",
       "\n",
       "_US Business list, reduced to point position and category_\n",
       "\n",
       "\n",
       "\n",
       "This package processes a list of US businesses obtained from a\n",
       "[private source](https://www.businesslistdatabase.com/). The\n",
       "source data is low quality, so there is a lot of processing\n",
       "to be done. Most importantly, many records have a conflict between \n",
       "the SIC and NAICS codes; these records are removed. \n",
       "\n",
       "## Building\n",
       "\n",
       "The package can take muh longer to build than the timeout for \n",
       "running a Jupyter notebook, so the Jupyter notebook caches\n",
       "intermediate stages of the process. Run the upyter notebook directly\n",
       "first, then build the package.\n",
       "## Documentation Links\n",
       "\n",
       "* [Documentation Page](http://s3.amazonaws.com/radius.civicknowledge.com/businesslistdatabase.com-us_business-1.1.1/index.html) \n",
       "\n",
       " \n",
       "\n",
       "## Contacts\n",
       "\n",
       "* **Wrangler** [Eric Busboom](mailto:eric@civicknowledge.com), [Civic Knowledge](http://civicknowledge.com)\n",
       "\n",
       "## Resources\n",
       "\n",
       "* ** [businesses_cat](http://s3.amazonaws.com/radius.civicknowledge.com/businesslistdatabase.com-us_business-1.1.1/data/businesses_cat.csv)**. Businesses categorized to shop, auto, food, ent\n",
       "\n",
       "## References\n",
       "<ul><li> <strong>us_business</string>, <em>data/us_businesses.zip</em>. List of US Businesses</li><li> <strong>block_templ</string>, <em>censusgeo://2020/5/{st}/block</em>. Block url template</li><li> <strong>cbsa</string>, <em>censusgeo://2020/5/US/cbsa</em>. Metro areas</li><li> <strong>states</string>, <em>censusgeo://2020/5/US/state</em>. US States</li><li> <strong>us_geohashes</string>, <em>metapack+http://library.metatab.org/civicknowledge.com-geohash-us.csv#us_geohashes</em>. All 4 digit geohases in the continential US</li><li> <strong>utm_grid</string>, <em>metapack+http://library.metatab.org/civicknowledge.com-mgrs.csv#utm_grid</em>. </li><li> <strong><a href=\"https://www.census.gov/eos/www/naics/2012NAICS/2012_NAICS_Index_File.xls\">naics_index_2012</a></strong>. NAICS index file, 2012</li><li> <strong><a href=\"https://www.census.gov/eos/www/naics/2012NAICS/2-digit_2012_Codes.xls\">naics_index_2012_26</a></strong>. NAICS index file, 2012, 2 to 6 digit codes</li><li> <strong><a href=\"https://www.census.gov/naics/concordances/1997_NAICS_to_1987_SIC.xls\">naics_sic</a></strong>. NAICS to SIC crosswalk, maybe?</li><ul>\n"
      ]
     },
     "execution_count": 4,
     "metadata": {},
     "output_type": "execute_result"
    }
   ],
   "source": [
    "bpkg = mp.open_package('http://radius.civicknowledge.com.s3.amazonaws.com/businesslistdatabase.com-us_business-1.1.1.csv')\n",
    "bpkg\n"
   ]
  },
  {
   "cell_type": "code",
   "execution_count": 15,
   "metadata": {},
   "outputs": [
    {
     "name": "stderr",
     "output_type": "stream",
     "text": [
      "Exception ignored in: <function PreparedGeometry.__del__ at 0x7ff190a18e50>\n",
      "Traceback (most recent call last):\n",
      "  File \"/Users/eric/opt/anaconda3/envs/radius38/lib/python3.8/site-packages/shapely/prepared.py\", line 36, in __del__\n",
      "    lgeos.GEOSPreparedGeom_destroy(self.__geom__)\n",
      "KeyboardInterrupt: \n"
     ]
    },
    {
     "ename": "KeyboardInterrupt",
     "evalue": "",
     "output_type": "error",
     "traceback": [
      "\u001b[0;31m---------------------------------------------------------------------------\u001b[0m",
      "\u001b[0;31mKeyboardInterrupt\u001b[0m                         Traceback (most recent call last)",
      "\u001b[0;32m<timed exec>\u001b[0m in \u001b[0;36m<module>\u001b[0;34m\u001b[0m\n",
      "\u001b[0;32m~/opt/anaconda3/envs/radius38/lib/python3.8/site-packages/geopandas/tools/sjoin.py\u001b[0m in \u001b[0;36msjoin\u001b[0;34m(left_df, right_df, how, op, lsuffix, rsuffix)\u001b[0m\n\u001b[1;32m     87\u001b[0m     \u001b[0m_basic_checks\u001b[0m\u001b[0;34m(\u001b[0m\u001b[0mleft_df\u001b[0m\u001b[0;34m,\u001b[0m \u001b[0mright_df\u001b[0m\u001b[0;34m,\u001b[0m \u001b[0mhow\u001b[0m\u001b[0;34m,\u001b[0m \u001b[0mlsuffix\u001b[0m\u001b[0;34m,\u001b[0m \u001b[0mrsuffix\u001b[0m\u001b[0;34m)\u001b[0m\u001b[0;34m\u001b[0m\u001b[0;34m\u001b[0m\u001b[0m\n\u001b[1;32m     88\u001b[0m \u001b[0;34m\u001b[0m\u001b[0m\n\u001b[0;32m---> 89\u001b[0;31m     \u001b[0mindices\u001b[0m \u001b[0;34m=\u001b[0m \u001b[0m_geom_predicate_query\u001b[0m\u001b[0;34m(\u001b[0m\u001b[0mleft_df\u001b[0m\u001b[0;34m,\u001b[0m \u001b[0mright_df\u001b[0m\u001b[0;34m,\u001b[0m \u001b[0mop\u001b[0m\u001b[0;34m)\u001b[0m\u001b[0;34m\u001b[0m\u001b[0;34m\u001b[0m\u001b[0m\n\u001b[0m\u001b[1;32m     90\u001b[0m \u001b[0;34m\u001b[0m\u001b[0m\n\u001b[1;32m     91\u001b[0m     \u001b[0mjoined\u001b[0m \u001b[0;34m=\u001b[0m \u001b[0m_frame_join\u001b[0m\u001b[0;34m(\u001b[0m\u001b[0mindices\u001b[0m\u001b[0;34m,\u001b[0m \u001b[0mleft_df\u001b[0m\u001b[0;34m,\u001b[0m \u001b[0mright_df\u001b[0m\u001b[0;34m,\u001b[0m \u001b[0mhow\u001b[0m\u001b[0;34m,\u001b[0m \u001b[0mlsuffix\u001b[0m\u001b[0;34m,\u001b[0m \u001b[0mrsuffix\u001b[0m\u001b[0;34m)\u001b[0m\u001b[0;34m\u001b[0m\u001b[0;34m\u001b[0m\u001b[0m\n",
      "\u001b[0;32m~/opt/anaconda3/envs/radius38/lib/python3.8/site-packages/geopandas/tools/sjoin.py\u001b[0m in \u001b[0;36m_geom_predicate_query\u001b[0;34m(left_df, right_df, op)\u001b[0m\n\u001b[1;32m    181\u001b[0m \u001b[0;34m\u001b[0m\u001b[0m\n\u001b[1;32m    182\u001b[0m     \u001b[0;32mif\u001b[0m \u001b[0msindex\u001b[0m\u001b[0;34m:\u001b[0m\u001b[0;34m\u001b[0m\u001b[0;34m\u001b[0m\u001b[0m\n\u001b[0;32m--> 183\u001b[0;31m         \u001b[0ml_idx\u001b[0m\u001b[0;34m,\u001b[0m \u001b[0mr_idx\u001b[0m \u001b[0;34m=\u001b[0m \u001b[0msindex\u001b[0m\u001b[0;34m.\u001b[0m\u001b[0mquery_bulk\u001b[0m\u001b[0;34m(\u001b[0m\u001b[0minput_geoms\u001b[0m\u001b[0;34m,\u001b[0m \u001b[0mpredicate\u001b[0m\u001b[0;34m=\u001b[0m\u001b[0mpredicate\u001b[0m\u001b[0;34m,\u001b[0m \u001b[0msort\u001b[0m\u001b[0;34m=\u001b[0m\u001b[0;32mFalse\u001b[0m\u001b[0;34m)\u001b[0m\u001b[0;34m\u001b[0m\u001b[0;34m\u001b[0m\u001b[0m\n\u001b[0m\u001b[1;32m    184\u001b[0m         \u001b[0mindices\u001b[0m \u001b[0;34m=\u001b[0m \u001b[0mpd\u001b[0m\u001b[0;34m.\u001b[0m\u001b[0mDataFrame\u001b[0m\u001b[0;34m(\u001b[0m\u001b[0;34m{\u001b[0m\u001b[0;34m\"_key_left\"\u001b[0m\u001b[0;34m:\u001b[0m \u001b[0ml_idx\u001b[0m\u001b[0;34m,\u001b[0m \u001b[0;34m\"_key_right\"\u001b[0m\u001b[0;34m:\u001b[0m \u001b[0mr_idx\u001b[0m\u001b[0;34m}\u001b[0m\u001b[0;34m)\u001b[0m\u001b[0;34m\u001b[0m\u001b[0;34m\u001b[0m\u001b[0m\n\u001b[1;32m    185\u001b[0m     \u001b[0;32melse\u001b[0m\u001b[0;34m:\u001b[0m\u001b[0;34m\u001b[0m\u001b[0;34m\u001b[0m\u001b[0m\n",
      "\u001b[0;32m~/opt/anaconda3/envs/radius38/lib/python3.8/site-packages/geopandas/sindex.py\u001b[0m in \u001b[0;36mquery_bulk\u001b[0;34m(self, geometry, predicate, sort)\u001b[0m\n\u001b[1;32m    446\u001b[0m \u001b[0;34m\u001b[0m\u001b[0m\n\u001b[1;32m    447\u001b[0m             \u001b[0;32mfor\u001b[0m \u001b[0mi\u001b[0m\u001b[0;34m,\u001b[0m \u001b[0mgeo\u001b[0m \u001b[0;32min\u001b[0m \u001b[0menumerate\u001b[0m\u001b[0;34m(\u001b[0m\u001b[0mgeometry\u001b[0m\u001b[0;34m)\u001b[0m\u001b[0;34m:\u001b[0m\u001b[0;34m\u001b[0m\u001b[0;34m\u001b[0m\u001b[0m\n\u001b[0;32m--> 448\u001b[0;31m                 \u001b[0mres\u001b[0m \u001b[0;34m=\u001b[0m \u001b[0mself\u001b[0m\u001b[0;34m.\u001b[0m\u001b[0mquery\u001b[0m\u001b[0;34m(\u001b[0m\u001b[0mgeo\u001b[0m\u001b[0;34m,\u001b[0m \u001b[0mpredicate\u001b[0m\u001b[0;34m=\u001b[0m\u001b[0mpredicate\u001b[0m\u001b[0;34m,\u001b[0m \u001b[0msort\u001b[0m\u001b[0;34m=\u001b[0m\u001b[0msort\u001b[0m\u001b[0;34m)\u001b[0m\u001b[0;34m\u001b[0m\u001b[0;34m\u001b[0m\u001b[0m\n\u001b[0m\u001b[1;32m    449\u001b[0m                 \u001b[0mtree_index\u001b[0m\u001b[0;34m.\u001b[0m\u001b[0mextend\u001b[0m\u001b[0;34m(\u001b[0m\u001b[0mres\u001b[0m\u001b[0;34m)\u001b[0m\u001b[0;34m\u001b[0m\u001b[0;34m\u001b[0m\u001b[0m\n\u001b[1;32m    450\u001b[0m                 \u001b[0minput_geometry_index\u001b[0m\u001b[0;34m.\u001b[0m\u001b[0mextend\u001b[0m\u001b[0;34m(\u001b[0m\u001b[0;34m[\u001b[0m\u001b[0mi\u001b[0m\u001b[0;34m]\u001b[0m \u001b[0;34m*\u001b[0m \u001b[0mlen\u001b[0m\u001b[0;34m(\u001b[0m\u001b[0mres\u001b[0m\u001b[0;34m)\u001b[0m\u001b[0;34m)\u001b[0m\u001b[0;34m\u001b[0m\u001b[0;34m\u001b[0m\u001b[0m\n",
      "\u001b[0;32m~/opt/anaconda3/envs/radius38/lib/python3.8/site-packages/geopandas/sindex.py\u001b[0m in \u001b[0;36mquery\u001b[0;34m(self, geometry, predicate, sort)\u001b[0m\n\u001b[1;32m    425\u001b[0m                     \u001b[0;31m# prepare this input geometry\u001b[0m\u001b[0;34m\u001b[0m\u001b[0;34m\u001b[0m\u001b[0;34m\u001b[0m\u001b[0m\n\u001b[1;32m    426\u001b[0m                     \u001b[0mgeometry\u001b[0m \u001b[0;34m=\u001b[0m \u001b[0mprep\u001b[0m\u001b[0;34m(\u001b[0m\u001b[0mgeometry\u001b[0m\u001b[0;34m)\u001b[0m\u001b[0;34m\u001b[0m\u001b[0;34m\u001b[0m\u001b[0m\n\u001b[0;32m--> 427\u001b[0;31m                 tree_idx = [\n\u001b[0m\u001b[1;32m    428\u001b[0m                     \u001b[0mindex_in_tree\u001b[0m\u001b[0;34m\u001b[0m\u001b[0;34m\u001b[0m\u001b[0m\n\u001b[1;32m    429\u001b[0m                     \u001b[0;32mfor\u001b[0m \u001b[0mindex_in_tree\u001b[0m \u001b[0;32min\u001b[0m \u001b[0mtree_idx\u001b[0m\u001b[0;34m\u001b[0m\u001b[0;34m\u001b[0m\u001b[0m\n",
      "\u001b[0;32m~/opt/anaconda3/envs/radius38/lib/python3.8/site-packages/geopandas/sindex.py\u001b[0m in \u001b[0;36m<listcomp>\u001b[0;34m(.0)\u001b[0m\n\u001b[1;32m    428\u001b[0m                     \u001b[0mindex_in_tree\u001b[0m\u001b[0;34m\u001b[0m\u001b[0;34m\u001b[0m\u001b[0m\n\u001b[1;32m    429\u001b[0m                     \u001b[0;32mfor\u001b[0m \u001b[0mindex_in_tree\u001b[0m \u001b[0;32min\u001b[0m \u001b[0mtree_idx\u001b[0m\u001b[0;34m\u001b[0m\u001b[0;34m\u001b[0m\u001b[0m\n\u001b[0;32m--> 430\u001b[0;31m                     \u001b[0;32mif\u001b[0m \u001b[0mgetattr\u001b[0m\u001b[0;34m(\u001b[0m\u001b[0mgeometry\u001b[0m\u001b[0;34m,\u001b[0m \u001b[0mpredicate\u001b[0m\u001b[0;34m)\u001b[0m\u001b[0;34m(\u001b[0m\u001b[0mself\u001b[0m\u001b[0;34m.\u001b[0m\u001b[0mgeometries\u001b[0m\u001b[0;34m[\u001b[0m\u001b[0mindex_in_tree\u001b[0m\u001b[0;34m]\u001b[0m\u001b[0;34m)\u001b[0m\u001b[0;34m\u001b[0m\u001b[0;34m\u001b[0m\u001b[0m\n\u001b[0m\u001b[1;32m    431\u001b[0m                 ]\n\u001b[1;32m    432\u001b[0m \u001b[0;34m\u001b[0m\u001b[0m\n",
      "\u001b[0;32m~/opt/anaconda3/envs/radius38/lib/python3.8/site-packages/shapely/impl.py\u001b[0m in \u001b[0;36mwrapper\u001b[0;34m(*args, **kwargs)\u001b[0m\n\u001b[1;32m     35\u001b[0m     \u001b[0;32mdef\u001b[0m \u001b[0mwrapper\u001b[0m\u001b[0;34m(\u001b[0m\u001b[0;34m*\u001b[0m\u001b[0margs\u001b[0m\u001b[0;34m,\u001b[0m \u001b[0;34m**\u001b[0m\u001b[0mkwargs\u001b[0m\u001b[0;34m)\u001b[0m\u001b[0;34m:\u001b[0m\u001b[0;34m\u001b[0m\u001b[0;34m\u001b[0m\u001b[0m\n\u001b[1;32m     36\u001b[0m         \u001b[0;32mtry\u001b[0m\u001b[0;34m:\u001b[0m\u001b[0;34m\u001b[0m\u001b[0;34m\u001b[0m\u001b[0m\n\u001b[0;32m---> 37\u001b[0;31m             \u001b[0;32mreturn\u001b[0m \u001b[0mfunc\u001b[0m\u001b[0;34m(\u001b[0m\u001b[0;34m*\u001b[0m\u001b[0margs\u001b[0m\u001b[0;34m,\u001b[0m \u001b[0;34m**\u001b[0m\u001b[0mkwargs\u001b[0m\u001b[0;34m)\u001b[0m\u001b[0;34m\u001b[0m\u001b[0;34m\u001b[0m\u001b[0m\n\u001b[0m\u001b[1;32m     38\u001b[0m         \u001b[0;32mexcept\u001b[0m \u001b[0mKeyError\u001b[0m\u001b[0;34m:\u001b[0m\u001b[0;34m\u001b[0m\u001b[0;34m\u001b[0m\u001b[0m\n\u001b[1;32m     39\u001b[0m             raise ImplementationError(\n",
      "\u001b[0;32m~/opt/anaconda3/envs/radius38/lib/python3.8/site-packages/shapely/prepared.py\u001b[0m in \u001b[0;36mintersects\u001b[0;34m(self, other)\u001b[0m\n\u001b[1;32m     74\u001b[0m     \u001b[0;32mdef\u001b[0m \u001b[0mintersects\u001b[0m\u001b[0;34m(\u001b[0m\u001b[0mself\u001b[0m\u001b[0;34m,\u001b[0m \u001b[0mother\u001b[0m\u001b[0;34m)\u001b[0m\u001b[0;34m:\u001b[0m\u001b[0;34m\u001b[0m\u001b[0;34m\u001b[0m\u001b[0m\n\u001b[1;32m     75\u001b[0m         \u001b[0;34m\"\"\"Returns True if geometries intersect, else False\"\"\"\u001b[0m\u001b[0;34m\u001b[0m\u001b[0;34m\u001b[0m\u001b[0m\n\u001b[0;32m---> 76\u001b[0;31m         \u001b[0;32mreturn\u001b[0m \u001b[0mbool\u001b[0m\u001b[0;34m(\u001b[0m\u001b[0mself\u001b[0m\u001b[0;34m.\u001b[0m\u001b[0mimpl\u001b[0m\u001b[0;34m[\u001b[0m\u001b[0;34m'prepared_intersects'\u001b[0m\u001b[0;34m]\u001b[0m\u001b[0;34m(\u001b[0m\u001b[0mself\u001b[0m\u001b[0;34m,\u001b[0m \u001b[0mother\u001b[0m\u001b[0;34m)\u001b[0m\u001b[0;34m)\u001b[0m\u001b[0;34m\u001b[0m\u001b[0;34m\u001b[0m\u001b[0m\n\u001b[0m\u001b[1;32m     77\u001b[0m \u001b[0;34m\u001b[0m\u001b[0m\n\u001b[1;32m     78\u001b[0m     \u001b[0;34m@\u001b[0m\u001b[0mdelegated\u001b[0m\u001b[0;34m\u001b[0m\u001b[0;34m\u001b[0m\u001b[0m\n",
      "\u001b[0;32m~/opt/anaconda3/envs/radius38/lib/python3.8/site-packages/shapely/predicates.py\u001b[0m in \u001b[0;36m__call__\u001b[0;34m(self, this, other, *args)\u001b[0m\n\u001b[1;32m     13\u001b[0m         \u001b[0mself\u001b[0m\u001b[0;34m.\u001b[0m\u001b[0m_validate\u001b[0m\u001b[0;34m(\u001b[0m\u001b[0mother\u001b[0m\u001b[0;34m,\u001b[0m \u001b[0mstop_prepared\u001b[0m\u001b[0;34m=\u001b[0m\u001b[0;32mTrue\u001b[0m\u001b[0;34m)\u001b[0m\u001b[0;34m\u001b[0m\u001b[0;34m\u001b[0m\u001b[0m\n\u001b[1;32m     14\u001b[0m         \u001b[0;32mtry\u001b[0m\u001b[0;34m:\u001b[0m\u001b[0;34m\u001b[0m\u001b[0;34m\u001b[0m\u001b[0m\n\u001b[0;32m---> 15\u001b[0;31m             \u001b[0;32mreturn\u001b[0m \u001b[0mself\u001b[0m\u001b[0;34m.\u001b[0m\u001b[0mfn\u001b[0m\u001b[0;34m(\u001b[0m\u001b[0mthis\u001b[0m\u001b[0;34m.\u001b[0m\u001b[0m_geom\u001b[0m\u001b[0;34m,\u001b[0m \u001b[0mother\u001b[0m\u001b[0;34m.\u001b[0m\u001b[0m_geom\u001b[0m\u001b[0;34m,\u001b[0m \u001b[0;34m*\u001b[0m\u001b[0margs\u001b[0m\u001b[0;34m)\u001b[0m\u001b[0;34m\u001b[0m\u001b[0;34m\u001b[0m\u001b[0m\n\u001b[0m\u001b[1;32m     16\u001b[0m         \u001b[0;32mexcept\u001b[0m \u001b[0mPredicateError\u001b[0m \u001b[0;32mas\u001b[0m \u001b[0merr\u001b[0m\u001b[0;34m:\u001b[0m\u001b[0;34m\u001b[0m\u001b[0;34m\u001b[0m\u001b[0m\n\u001b[1;32m     17\u001b[0m             \u001b[0;31m# Dig deeper into causes of errors.\u001b[0m\u001b[0;34m\u001b[0m\u001b[0;34m\u001b[0m\u001b[0;34m\u001b[0m\u001b[0m\n",
      "\u001b[0;32m~/opt/anaconda3/envs/radius38/lib/python3.8/site-packages/shapely/geos.py\u001b[0m in \u001b[0;36merrcheck_predicate\u001b[0;34m(result, func, argtuple)\u001b[0m\n\u001b[1;32m    579\u001b[0m \u001b[0;34m\u001b[0m\u001b[0m\n\u001b[1;32m    580\u001b[0m \u001b[0;34m\u001b[0m\u001b[0m\n\u001b[0;32m--> 581\u001b[0;31m \u001b[0;32mdef\u001b[0m \u001b[0merrcheck_predicate\u001b[0m\u001b[0;34m(\u001b[0m\u001b[0mresult\u001b[0m\u001b[0;34m,\u001b[0m \u001b[0mfunc\u001b[0m\u001b[0;34m,\u001b[0m \u001b[0margtuple\u001b[0m\u001b[0;34m)\u001b[0m\u001b[0;34m:\u001b[0m\u001b[0;34m\u001b[0m\u001b[0;34m\u001b[0m\u001b[0m\n\u001b[0m\u001b[1;32m    582\u001b[0m     \u001b[0;34m\"\"\"Result is 2 on exception, 1 on True, 0 on False\"\"\"\u001b[0m\u001b[0;34m\u001b[0m\u001b[0;34m\u001b[0m\u001b[0m\n\u001b[1;32m    583\u001b[0m     \u001b[0;32mif\u001b[0m \u001b[0mresult\u001b[0m \u001b[0;34m==\u001b[0m \u001b[0;36m2\u001b[0m\u001b[0;34m:\u001b[0m\u001b[0;34m\u001b[0m\u001b[0;34m\u001b[0m\u001b[0m\n",
      "\u001b[0;31mKeyboardInterrupt\u001b[0m: "
     ]
    }
   ],
   "source": [
    "%%time\n",
    "\n",
    "k_src = 'business_scores/combined_source'\n",
    "if cache.exists(k_src):\n",
    "    df = cache.get_df(k_src)\n",
    "else:\n",
    "    cbsa = bpkg.reference('cbsa').geoframe()\n",
    "    bc= bpkg.resource('businesses_cat').geoframe()\n",
    "    t = gpd.sjoin(bc, cbsa.to_crs(4326))\n",
    "    df = t[~t.geoid.isnull()]\n",
    "    cache.put_df(k_src, s)\n",
    "    \n",
    "dfs = df.sample(500_000)\n",
    "   \n",
    "print(len(dfs))\n",
    "dfs.head() "
   ]
  },
  {
   "cell_type": "code",
   "execution_count": 3,
   "metadata": {},
   "outputs": [
    {
     "ename": "NameError",
     "evalue": "name 'df' is not defined",
     "output_type": "error",
     "traceback": [
      "\u001b[0;31m---------------------------------------------------------------------------\u001b[0m",
      "\u001b[0;31mNameError\u001b[0m                                 Traceback (most recent call last)",
      "\u001b[0;32m<ipython-input-3-f762447e31fe>\u001b[0m in \u001b[0;36m<module>\u001b[0;34m\u001b[0m\n\u001b[1;32m     19\u001b[0m        'travel', 'food']\n\u001b[1;32m     20\u001b[0m \u001b[0;34m\u001b[0m\u001b[0m\n\u001b[0;32m---> 21\u001b[0;31m \u001b[0mcat_cols\u001b[0m \u001b[0;34m=\u001b[0m \u001b[0mset\u001b[0m\u001b[0;34m(\u001b[0m\u001b[0mdf\u001b[0m\u001b[0;34m.\u001b[0m\u001b[0mcolumns\u001b[0m\u001b[0;34m)\u001b[0m\u001b[0;34m-\u001b[0m\u001b[0mset\u001b[0m\u001b[0;34m(\u001b[0m\u001b[0mdemo_cols\u001b[0m\u001b[0;34m)\u001b[0m\u001b[0;34m-\u001b[0m\u001b[0mset\u001b[0m\u001b[0;34m(\u001b[0m\u001b[0mosm_cols\u001b[0m\u001b[0;34m)\u001b[0m\u001b[0;34m\u001b[0m\u001b[0;34m\u001b[0m\u001b[0m\n\u001b[0m\u001b[1;32m     22\u001b[0m \u001b[0;34m\u001b[0m\u001b[0m\n\u001b[1;32m     23\u001b[0m \u001b[0;31m# High-performing demographics columns\u001b[0m\u001b[0;34m\u001b[0m\u001b[0;34m\u001b[0m\u001b[0;34m\u001b[0m\u001b[0m\n",
      "\u001b[0;31mNameError\u001b[0m: name 'df' is not defined"
     ]
    }
   ],
   "source": [
    "drop_cols = ['agg_hh_income','female','male',\n",
    "             'over25_college', # corr to agg_income\n",
    "             'over25_high_school', # corr to total_pop, seniors\n",
    "             'over25_high_school', # corr to total_pop, seniors\n",
    "             'housing_rented_college', # Agg_income\n",
    "             'households', # corr to  total_population\n",
    "             'households_unmaried', # agg_income, housing_rented_college\n",
    "             'geometry'\n",
    "            ]\n",
    "\n",
    "demo_cols = ['total_population', 'male', 'female', 'over25_college',\n",
    "       'over25_high_school', 'seniors', 'households', 'households_unmaried',\n",
    "       'housing_owned_college', 'housing_rented_college', 'agg_income',\n",
    "       'agg_hh_income']\n",
    "\n",
    "\n",
    "osm_cols = ['primary', 'secondary', 'tertiary', 'trunk', 'highway',\n",
    "       'entertain', 'restaurant', 'casual', 'shop', 'bar', 'cafe', 'active',\n",
    "       'travel', 'food']\n",
    "\n",
    "cat_cols = set(df.columns)-set(demo_cols)-set(osm_cols)\n",
    "\n",
    "# High-performing demographics columns\n",
    "hp_cols = ['seniors',\n",
    " 'households',\n",
    " 'housing_owned_college',\n",
    " 'households_unmaried',\n",
    " 'housing_rented_college',\n",
    " 'over25_college',\n",
    " 'agg_hh_income',\n",
    " 'male']\n",
    "\n",
    "\n"
   ]
  },
  {
   "cell_type": "code",
   "execution_count": 6,
   "metadata": {},
   "outputs": [
    {
     "ename": "NameError",
     "evalue": "name 'dfs' is not defined",
     "output_type": "error",
     "traceback": [
      "\u001b[0;31m---------------------------------------------------------------------------\u001b[0m",
      "\u001b[0;31mNameError\u001b[0m                                 Traceback (most recent call last)",
      "\u001b[0;32m<timed exec>\u001b[0m in \u001b[0;36m<module>\u001b[0;34m\u001b[0m\n",
      "\u001b[0;31mNameError\u001b[0m: name 'dfs' is not defined"
     ]
    }
   ],
   "source": [
    "%%time\n",
    "\n",
    "k_src = 'business_scores/source/{idx}'\n",
    "k_score = 'business_scores/scores/{idx}'\n",
    "\n",
    "tasks = []\n",
    "chunk_size = 100 #len(s)\n",
    "rng = list(range(0, len(dfs), chunk_size))\n",
    "for i in tqdm(rng):\n",
    "    chunk = dfs.iloc[i:i+chunk_size]\n",
    "    k = k_src.format(idx=i)\n",
    "    cache.put_df(k, chunk)\n",
    "    tasks.append((cache_dir, i, k))\n",
    "    \n",
    "cache.get_df('business_scores/source/96600.pkl').head()"
   ]
  },
  {
   "cell_type": "code",
   "execution_count": 7,
   "metadata": {},
   "outputs": [],
   "source": [
    "\n",
    "layers = ['total_population','male','female','over25_college','over25_high_school','seniors',\n",
    "          'households','households_unmaried','housing_owned_college','housing_rented_college',\n",
    "          'agg_income','agg_hh_income',\n",
    "          'primary', 'secondary','tertiary', 'trunk', 'highway', \n",
    "          'entertain', 'restaurant', 'casual', 'shop','bar','cafe','active','travel', 'food']\n",
    "\n",
    "def _f(cache_dir, idx, inp):\n",
    "    from demosearch.exceptions import OutofBoundsError\n",
    "    from demosearch import FileCache, RasterManager\n",
    "    \n",
    "    \n",
    "    cache = FileCache(cache_dir)\n",
    "    rm = RasterManager(cache)\n",
    "    \n",
    "    k = k_score.format(idx=idx)\n",
    "   \n",
    "    if cache.exists(k):\n",
    "        return k\n",
    "    \n",
    "    s = cache.get_df(inp)\n",
    "\n",
    "    rows = []\n",
    "    for idx, row in s.iterrows():\n",
    "\n",
    "        try:\n",
    "            p = rm.patches( (row.geometry.y, row.geometry.x), layers=layers)\n",
    "            e = p.score()[0]\n",
    "           \n",
    "            e['cbsa'] = row.geoid\n",
    "            e['naics'] = row.naics\n",
    "            e['group'] = row.group\n",
    "            e['geometry'] = row.geometry\n",
    "           \n",
    "            rows.append(e)\n",
    "        \n",
    "        except OutofBoundsError as err:\n",
    "            pass\n",
    "        except Exception as err:\n",
    "            print(err)\n",
    "            raise\n",
    "            pass # Ingore errors\n",
    "        \n",
    "    r = gpd.GeoDataFrame(rows)\n",
    "    \n",
    "    cache.put_df(k, r)\n",
    "    return k\n",
    " \n",
    "# Check if the function will pickle\n",
    "import cloudpickle\n",
    "pl = cloudpickle.dumps([_f, tasks])\n",
    "    \n",
    "#cache.delete('business_scores/scores/1100')\n",
    "#%time k = _f(*tasks[11])\n",
    "#s = cache.get_df(k)\n",
    "#s"
   ]
  },
  {
   "cell_type": "code",
   "execution_count": 8,
   "metadata": {},
   "outputs": [
    {
     "ename": "NameError",
     "evalue": "name 'tqdm' is not defined",
     "output_type": "error",
     "traceback": [
      "\u001b[0;31m---------------------------------------------------------------------------\u001b[0m",
      "\u001b[0;31mNameError\u001b[0m                                 Traceback (most recent call last)",
      "\u001b[0;32m<ipython-input-8-4e952ff4f57f>\u001b[0m in \u001b[0;36m<module>\u001b[0;34m\u001b[0m\n\u001b[1;32m     10\u001b[0m     \u001b[0;32mreturn\u001b[0m \u001b[0mParallel\u001b[0m\u001b[0;34m(\u001b[0m\u001b[0mn_jobs\u001b[0m\u001b[0;34m=\u001b[0m\u001b[0mn_cpu\u001b[0m\u001b[0;34m)\u001b[0m\u001b[0;34m(\u001b[0m\u001b[0mdelayed\u001b[0m\u001b[0;34m(\u001b[0m\u001b[0mf\u001b[0m\u001b[0;34m)\u001b[0m\u001b[0;34m(\u001b[0m\u001b[0;34m*\u001b[0m\u001b[0mt\u001b[0m\u001b[0;34m)\u001b[0m \u001b[0;32mfor\u001b[0m \u001b[0mt\u001b[0m \u001b[0;32min\u001b[0m \u001b[0mtqdm\u001b[0m\u001b[0;34m(\u001b[0m\u001b[0mtasks\u001b[0m\u001b[0;34m,\u001b[0m \u001b[0mdesc\u001b[0m\u001b[0;34m=\u001b[0m\u001b[0mdesc\u001b[0m\u001b[0;34m)\u001b[0m\u001b[0;34m)\u001b[0m\u001b[0;34m\u001b[0m\u001b[0;34m\u001b[0m\u001b[0m\n\u001b[1;32m     11\u001b[0m \u001b[0;34m\u001b[0m\u001b[0m\n\u001b[0;32m---> 12\u001b[0;31m \u001b[0mr\u001b[0m \u001b[0;34m=\u001b[0m \u001b[0mrun_mp\u001b[0m\u001b[0;34m(\u001b[0m\u001b[0m_f\u001b[0m\u001b[0;34m,\u001b[0m \u001b[0mtasks\u001b[0m\u001b[0;34m)\u001b[0m\u001b[0;34m\u001b[0m\u001b[0;34m\u001b[0m\u001b[0m\n\u001b[0m",
      "\u001b[0;32m<ipython-input-8-4e952ff4f57f>\u001b[0m in \u001b[0;36mrun_mp\u001b[0;34m(f, tasks, desc, n_cpu)\u001b[0m\n\u001b[1;32m      8\u001b[0m         \u001b[0mn_cpu\u001b[0m \u001b[0;34m=\u001b[0m \u001b[0mcpu_count\u001b[0m\u001b[0;34m(\u001b[0m\u001b[0;34m)\u001b[0m \u001b[0;34m-\u001b[0m \u001b[0;36m2\u001b[0m\u001b[0;34m\u001b[0m\u001b[0;34m\u001b[0m\u001b[0m\n\u001b[1;32m      9\u001b[0m \u001b[0;34m\u001b[0m\u001b[0m\n\u001b[0;32m---> 10\u001b[0;31m     \u001b[0;32mreturn\u001b[0m \u001b[0mParallel\u001b[0m\u001b[0;34m(\u001b[0m\u001b[0mn_jobs\u001b[0m\u001b[0;34m=\u001b[0m\u001b[0mn_cpu\u001b[0m\u001b[0;34m)\u001b[0m\u001b[0;34m(\u001b[0m\u001b[0mdelayed\u001b[0m\u001b[0;34m(\u001b[0m\u001b[0mf\u001b[0m\u001b[0;34m)\u001b[0m\u001b[0;34m(\u001b[0m\u001b[0;34m*\u001b[0m\u001b[0mt\u001b[0m\u001b[0;34m)\u001b[0m \u001b[0;32mfor\u001b[0m \u001b[0mt\u001b[0m \u001b[0;32min\u001b[0m \u001b[0mtqdm\u001b[0m\u001b[0;34m(\u001b[0m\u001b[0mtasks\u001b[0m\u001b[0;34m,\u001b[0m \u001b[0mdesc\u001b[0m\u001b[0;34m=\u001b[0m\u001b[0mdesc\u001b[0m\u001b[0;34m)\u001b[0m\u001b[0;34m)\u001b[0m\u001b[0;34m\u001b[0m\u001b[0;34m\u001b[0m\u001b[0m\n\u001b[0m\u001b[1;32m     11\u001b[0m \u001b[0;34m\u001b[0m\u001b[0m\n\u001b[1;32m     12\u001b[0m \u001b[0mr\u001b[0m \u001b[0;34m=\u001b[0m \u001b[0mrun_mp\u001b[0m\u001b[0;34m(\u001b[0m\u001b[0m_f\u001b[0m\u001b[0;34m,\u001b[0m \u001b[0mtasks\u001b[0m\u001b[0;34m)\u001b[0m\u001b[0;34m\u001b[0m\u001b[0;34m\u001b[0m\u001b[0m\n",
      "\u001b[0;31mNameError\u001b[0m: name 'tqdm' is not defined"
     ]
    }
   ],
   "source": [
    "def run_mp(f, tasks, desc='', n_cpu=None):\n",
    "    \"\"\"Run a function in multiple processes and return the results as a list\n",
    "    displays a progress bar\"\"\"\n",
    "    from joblib import Parallel, delayed\n",
    "    from multiprocessing import cpu_count\n",
    "\n",
    "    if n_cpu is None:\n",
    "        n_cpu = cpu_count() - 2\n",
    "\n",
    "    return Parallel(n_jobs=n_cpu)(delayed(f)(*t) for t in tqdm(tasks, desc=desc))\n",
    "\n",
    "r = run_mp(_f, tasks)\n"
   ]
  },
  {
   "cell_type": "code",
   "execution_count": null,
   "metadata": {},
   "outputs": [],
   "source": []
  }
 ],
 "metadata": {
  "kernelspec": {
   "display_name": "Python 3",
   "language": "python",
   "name": "python3"
  },
  "language_info": {
   "codemirror_mode": {
    "name": "ipython",
    "version": 3
   },
   "file_extension": ".py",
   "mimetype": "text/x-python",
   "name": "python",
   "nbconvert_exporter": "python",
   "pygments_lexer": "ipython3",
   "version": "3.8.8"
  }
 },
 "nbformat": 4,
 "nbformat_minor": 4
}
